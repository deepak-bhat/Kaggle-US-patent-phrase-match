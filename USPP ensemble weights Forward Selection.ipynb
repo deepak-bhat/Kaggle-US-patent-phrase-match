{
 "cells": [
  {
   "cell_type": "code",
   "execution_count": 1,
   "metadata": {
    "scrolled": true
   },
   "outputs": [],
   "source": [
    "import pandas as pd, numpy as np, os\n",
    "from scipy import stats\n",
    "import matplotlib.pyplot as plt"
   ]
  },
  {
   "cell_type": "code",
   "execution_count": 2,
   "metadata": {},
   "outputs": [
    {
     "name": "stdout",
     "output_type": "stream",
     "text": [
      "We have 10 oof files...\n",
      "\n",
      "['oof_1.01_full.csv' 'oof_1.07_full.csv' 'oof_1.12_full.csv'\n",
      " 'oof_1.13_full.csv' 'oof_2.01_full.csv' 'oof_3.01_full.csv'\n",
      " 'oof_3.02_full.csv' 'oof_5.01_full.csv' 'oof_5.02_full.csv'\n",
      " 'oof_6.09_full.csv']\n"
     ]
    }
   ],
   "source": [
    "PATH =\"D:/Tech Learning/Kaggle/US patent p2p matching/oof results/\"\n",
    "FILES = os.listdir(PATH)\n",
    "\n",
    "OOF = np.sort( [f for f in FILES if 'oof' in f] )\n",
    "OOF_CSV = [pd.read_csv(PATH+k) for k in OOF]\n",
    "\n",
    "print('We have %i oof files...'%len(OOF))\n",
    "print(); print(OOF)"
   ]
  },
  {
   "cell_type": "code",
   "execution_count": 3,
   "metadata": {},
   "outputs": [],
   "source": [
    "x = np.zeros(( len(OOF_CSV[0]),len(OOF) ))\n",
    "for k in range(len(OOF)):\n",
    "    OOF_CSV[k] = OOF_CSV[k].sort_values(by = \"id\")\n",
    "    x[:,k] = OOF_CSV[k].pred.values\n",
    "    \n",
    "TRUE = OOF_CSV[0].score.values"
   ]
  },
  {
   "cell_type": "code",
   "execution_count": 4,
   "metadata": {},
   "outputs": [
    {
     "data": {
      "text/plain": [
       "array([0.25, 0.5 , 0.25, ..., 0.  , 0.  , 0.5 ])"
      ]
     },
     "execution_count": 4,
     "metadata": {},
     "output_type": "execute_result"
    }
   ],
   "source": [
    "TRUE"
   ]
  },
  {
   "cell_type": "code",
   "execution_count": 5,
   "metadata": {},
   "outputs": [],
   "source": [
    "def get_score(y_true, y_pred):\n",
    "    score = stats.pearsonr(y_true, y_pred)[0]\n",
    "    return score"
   ]
  },
  {
   "cell_type": "code",
   "execution_count": 6,
   "metadata": {},
   "outputs": [
    {
     "name": "stdout",
     "output_type": "stream",
     "text": [
      "Model 0 has OOF pearson = 0.8225\n",
      "Model 1 has OOF pearson = 0.8209\n",
      "Model 2 has OOF pearson = 0.8186\n",
      "Model 3 has OOF pearson = 0.8219\n",
      "Model 4 has OOF pearson = 0.8310\n",
      "Model 5 has OOF pearson = 0.8279\n",
      "Model 6 has OOF pearson = 0.8281\n",
      "Model 7 has OOF pearson = 0.8283\n",
      "Model 8 has OOF pearson = 0.8258\n",
      "Model 9 has OOF pearson = 0.8176\n"
     ]
    }
   ],
   "source": [
    "all = []\n",
    "for k in range(x.shape[1]):\n",
    "    pearson = get_score(OOF_CSV[0].score,x[:,k])\n",
    "    all.append(pearson)\n",
    "    print('Model %i has OOF pearson = %.4f'%(k,pearson))\n",
    "    \n",
    "m = [np.argmax(all)]; w = []"
   ]
  },
  {
   "cell_type": "code",
   "execution_count": 7,
   "metadata": {
    "scrolled": true
   },
   "outputs": [
    {
     "name": "stdout",
     "output_type": "stream",
     "text": [
      "Ensemble Pearson = 0.8310 by beginning with model 4\n",
      "Model 4 is oof_2.01_full.csv\n",
      "\n",
      "Searching for best model to add... \n",
      "0 , 1 , 2 , 3 , 4 , 5 , 6 , 7 , 8 , 9 , \n",
      "Ensemble pearson = 0.8440 after adding model 0 with weight 0.435. Increase of 0.0129\n",
      "Model 0 is oof_1.01_full.csv\n",
      "\n",
      "Searching for best model to add... \n",
      "0 , 1 , 2 , 3 , 4 , 5 , 6 , 7 , 8 , 9 , \n",
      "Ensemble pearson = 0.8459 after adding model 9 with weight 0.205. Increase of 0.0019\n",
      "Model 9 is oof_6.09_full.csv\n",
      "\n",
      "Searching for best model to add... \n",
      "0 , 1 , 2 , 3 , 4 , 5 , 6 , 7 , 8 , 9 , \n",
      "Ensemble pearson = 0.8472 after adding model 8 with weight 0.195. Increase of 0.0013\n",
      "Model 8 is oof_5.02_full.csv\n",
      "\n",
      "Searching for best model to add... \n",
      "0 , 1 , 2 , 3 , 4 , 5 , 6 , 7 , 8 , 9 , \n",
      "Ensemble pearson = 0.8479 after adding model 1 with weight 0.390. Increase of 0.0006\n",
      "Model 1 is oof_1.07_full.csv\n",
      "\n",
      "Searching for best model to add... \n",
      "0 , 1 , 2 , 3 , 4 , 5 , 6 , 7 , 8 , 9 , \n",
      "Ensemble pearson = 0.8483 after adding model 5 with weight 0.090. Increase of 0.0004\n",
      "Model 5 is oof_3.01_full.csv\n",
      "\n",
      "Searching for best model to add... \n",
      "0 , 1 , 2 , 3 , 4 , 5 , 6 , 7 , 8 , 9 , \n",
      "No increase. Stopping.\n"
     ]
    }
   ],
   "source": [
    "old = np.max(all); \n",
    "\n",
    "RES = 200; \n",
    "PATIENCE = 10; \n",
    "TOL = 0.0003\n",
    "DUPLICATES = False\n",
    "\n",
    "print('Ensemble Pearson = %.4f by beginning with model %i'%(old,m[0]))\n",
    "print('Model %i is %s' %(m[0],OOF[m[0]]))\n",
    "print()\n",
    "\n",
    "for kk in range(len(OOF)):\n",
    "    \n",
    "    # BUILD CURRENT ENSEMBLE\n",
    "    md = x[:,m[0]]\n",
    "    for i,k in enumerate(m[1:]):\n",
    "        md = w[i]*x[:,k] + (1-w[i])*md\n",
    "        \n",
    "    # FIND MODEL TO ADD\n",
    "    mx = 0; mx_k = 0; mx_w = 0\n",
    "    print('Searching for best model to add... ')\n",
    "    \n",
    "    # TRY ADDING EACH MODEL\n",
    "    for k in range(x.shape[1]):\n",
    "        print(k,', ',end='')\n",
    "        if not DUPLICATES and (k in m): continue\n",
    "            \n",
    "        # EVALUATE ADDING MODEL K WITH WEIGHTS W\n",
    "        bst_j = 0; bst = 0; ct = 0\n",
    "        for j in range(RES):\n",
    "            tmp = j/RES*x[:,k] + (1-j/RES)*md\n",
    "            pearson = get_score(TRUE,tmp)\n",
    "            if pearson>bst:\n",
    "                bst = pearson\n",
    "                bst_j = j/RES\n",
    "            else: ct += 1\n",
    "            if ct>PATIENCE: break\n",
    "        if bst>mx:\n",
    "            mx = bst\n",
    "            mx_k = k\n",
    "            mx_w = bst_j\n",
    "            \n",
    "    # STOP IF INCREASE IS LESS THAN TOL\n",
    "    inc = mx-old\n",
    "    if inc<=TOL: \n",
    "        print(); print('No increase. Stopping.')\n",
    "        break\n",
    "        \n",
    "    # DISPLAY RESULTS\n",
    "    print(); #print(kk,mx,mx_k,mx_w,'%.5f'%inc)\n",
    "    print('Ensemble pearson = %.4f after adding model %i with weight %.3f. Increase of %.4f'%(mx,mx_k,mx_w,inc))\n",
    "    print('Model %i is %s' %(mx_k,OOF[mx_k]))\n",
    "    print()\n",
    "    \n",
    "    old = mx; m.append(mx_k); w.append(mx_w)"
   ]
  },
  {
   "cell_type": "code",
   "execution_count": null,
   "metadata": {},
   "outputs": [],
   "source": []
  }
 ],
 "metadata": {
  "kernelspec": {
   "display_name": "Python 3",
   "language": "python",
   "name": "python3"
  },
  "language_info": {
   "codemirror_mode": {
    "name": "ipython",
    "version": 3
   },
   "file_extension": ".py",
   "mimetype": "text/x-python",
   "name": "python",
   "nbconvert_exporter": "python",
   "pygments_lexer": "ipython3",
   "version": "3.7.3"
  }
 },
 "nbformat": 4,
 "nbformat_minor": 4
}
